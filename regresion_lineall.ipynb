{
 "cells": [
  {
   "cell_type": "code",
   "execution_count": 2,
   "metadata": {},
   "outputs": [],
   "source": [
    "import numpy as np\n",
    "import matplotlib.pyplot as plt\n",
    "import pandas as pd\n",
    "from sklearn.linear_model import LinearRegression\n"
   ]
  },
  {
   "cell_type": "code",
   "execution_count": 4,
   "metadata": {},
   "outputs": [
    {
     "data": {
      "text/html": [
       "<div>\n",
       "<style scoped>\n",
       "    .dataframe tbody tr th:only-of-type {\n",
       "        vertical-align: middle;\n",
       "    }\n",
       "\n",
       "    .dataframe tbody tr th {\n",
       "        vertical-align: top;\n",
       "    }\n",
       "\n",
       "    .dataframe thead th {\n",
       "        text-align: right;\n",
       "    }\n",
       "</style>\n",
       "<table border=\"1\" class=\"dataframe\">\n",
       "  <thead>\n",
       "    <tr style=\"text-align: right;\">\n",
       "      <th></th>\n",
       "      <th>ï»¿Nro</th>\n",
       "      <th>Edad</th>\n",
       "      <th>PSS</th>\n",
       "    </tr>\n",
       "  </thead>\n",
       "  <tbody>\n",
       "    <tr>\n",
       "      <th>0</th>\n",
       "      <td>1</td>\n",
       "      <td>44</td>\n",
       "      <td>142</td>\n",
       "    </tr>\n",
       "    <tr>\n",
       "      <th>1</th>\n",
       "      <td>2</td>\n",
       "      <td>46</td>\n",
       "      <td>142</td>\n",
       "    </tr>\n",
       "    <tr>\n",
       "      <th>2</th>\n",
       "      <td>3</td>\n",
       "      <td>42</td>\n",
       "      <td>138</td>\n",
       "    </tr>\n",
       "    <tr>\n",
       "      <th>3</th>\n",
       "      <td>4</td>\n",
       "      <td>57</td>\n",
       "      <td>168</td>\n",
       "    </tr>\n",
       "    <tr>\n",
       "      <th>4</th>\n",
       "      <td>5</td>\n",
       "      <td>21</td>\n",
       "      <td>120</td>\n",
       "    </tr>\n",
       "  </tbody>\n",
       "</table>\n",
       "</div>"
      ],
      "text/plain": [
       "   ï»¿Nro  Edad  PSS\n",
       "0       1    44  142\n",
       "1       2    46  142\n",
       "2       3    42  138\n",
       "3       4    57  168\n",
       "4       5    21  120"
      ]
     },
     "execution_count": 4,
     "metadata": {},
     "output_type": "execute_result"
    }
   ],
   "source": [
    "#lectura del archivo csv\n",
    "ruta = './RegresiónLineal.csv'\n",
    "data = pd.read_csv(ruta, encoding=\"latin1\", sep=',')\n",
    "df = pd.DataFrame(data)\n",
    "\n",
    "df.head()"
   ]
  },
  {
   "cell_type": "code",
   "execution_count": 5,
   "metadata": {
    "colab": {
     "base_uri": "https://localhost:8080/",
     "height": 507
    },
    "id": "yV95LH5Qglit",
    "outputId": "92e9e34f-4fc5-4780-e2d0-33eb25427bb4"
   },
   "outputs": [
    {
     "name": "stdout",
     "output_type": "stream",
     "text": [
      "Coeficiente de pendiente (m): 1.04\n",
      "Coeficiente de intercepción (b): 100.41\n"
     ]
    },
    {
     "data": {
      "image/png": "[encoded data removed]",
      "text/plain": [
       "<Figure size 640x480 with 1 Axes>"
      ]
     },
     "metadata": {},
     "output_type": "display_data"
    }
   ],
   "source": [
    "\n",
    "\n",
    "\n",
    "# Dividir los datos en características (X) y variable objetivo (y)\n",
    "X = df[['Edad']]\n",
    "y = df['PSS']\n",
    "\n",
    "# Crear el objeto del modelo de regresión lineal\n",
    "regression_model = LinearRegression()\n",
    "\n",
    "# Ajustar el modelo con los datos\n",
    "regression_model.fit(X, y)\n",
    "\n",
    "# Obtener la pendiente y el coeficiente de intercepción\n",
    "slope = regression_model.coef_\n",
    "intercept = regression_model.intercept_\n",
    "\n",
    "# Imprimir los resultados\n",
    "print(f'Coeficiente de pendiente (m): {slope[0]:.2f}')\n",
    "print(f'Coeficiente de intercepción (b): {intercept:.2f}')\n",
    "\n",
    "# Predecir los valores de PSS usando el modelo ajustado\n",
    "y_pred = regression_model.predict(X)\n",
    "\n",
    "# Graficar los resultados\n",
    "plt.scatter(X, y, color='red')\n",
    "plt.plot(X, y_pred, color='blue')\n",
    "plt.title('Regresión Lineal')\n",
    "plt.xlabel('Edad')\n",
    "plt.ylabel('PSS')\n",
    "plt.show()\n"
   ]
  }
 ],
 "metadata": {
  "colab": {
   "provenance": []
  },
  "kernelspec": {
   "display_name": "Python 3 (ipykernel)",
   "language": "python",
   "name": "python3"
  },
  "language_info": {
   "codemirror_mode": {
    "name": "ipython",
    "version": 3
   },
   "file_extension": ".py",
   "mimetype": "text/x-python",
   "name": "python",
   "nbconvert_exporter": "python",
   "pygments_lexer": "ipython3",
   "version": "3.10.9"
  }
 },
 "nbformat": 4,
 "nbformat_minor": 1
}
